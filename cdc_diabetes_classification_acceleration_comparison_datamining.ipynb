{
  "nbformat": 4,
  "nbformat_minor": 0,
  "metadata": {
    "colab": {
      "provenance": [],
      "gpuType": "T4"
    },
    "kernelspec": {
      "name": "python3",
      "display_name": "Python 3"
    },
    "language_info": {
      "name": "python"
    },
    "accelerator": "GPU"
  },
  "cells": [
    {
      "cell_type": "markdown",
      "source": [
        "# cdc_diabetes_classification_acceleration_comparison"
      ],
      "metadata": {
        "id": "r0PmrNNvYz_Q"
      }
    },
    {
      "cell_type": "markdown",
      "source": [
        "This notebook evaluates and compares four classification pipelines—vanilla scikit‑learn, Intel oneAPI acceleration, RAPIDS GPU acceleration, and a PyTorch neural network—on the CDC Diabetes Health Indicators dataset. We will measure both predictive accuracy and execution time for training and inference.\n"
      ],
      "metadata": {
        "id": "qzS4bGwBY4GS"
      }
    },
    {
      "cell_type": "markdown",
      "source": [
        "## 1. Setup and Installation\n",
        "Install required libraries and extensions:\n",
        "- `ucimlrepo` for fetching the UCI dataset.\n",
        "- `scikit-learn-intelex` to enable Intel oneAPI optimizations in scikit-learn.\n"
      ],
      "metadata": {
        "id": "mbEhIRjhZEHr"
      }
    },
    {
      "cell_type": "code",
      "execution_count": null,
      "metadata": {
        "colab": {
          "base_uri": "https://localhost:8080/"
        },
        "collapsed": true,
        "id": "RMUrDZPFREnB",
        "outputId": "23ff6a02-d89b-4074-9af1-c72601abefeb"
      },
      "outputs": [
        {
          "output_type": "stream",
          "name": "stdout",
          "text": [
            "Collecting ucimlrepo\n",
            "  Downloading ucimlrepo-0.0.7-py3-none-any.whl.metadata (5.5 kB)\n",
            "Requirement already satisfied: pandas>=1.0.0 in /usr/local/lib/python3.11/dist-packages (from ucimlrepo) (2.2.2)\n",
            "Requirement already satisfied: certifi>=2020.12.5 in /usr/local/lib/python3.11/dist-packages (from ucimlrepo) (2025.4.26)\n",
            "Requirement already satisfied: numpy>=1.23.2 in /usr/local/lib/python3.11/dist-packages (from pandas>=1.0.0->ucimlrepo) (2.0.2)\n",
            "Requirement already satisfied: python-dateutil>=2.8.2 in /usr/local/lib/python3.11/dist-packages (from pandas>=1.0.0->ucimlrepo) (2.9.0.post0)\n",
            "Requirement already satisfied: pytz>=2020.1 in /usr/local/lib/python3.11/dist-packages (from pandas>=1.0.0->ucimlrepo) (2025.2)\n",
            "Requirement already satisfied: tzdata>=2022.7 in /usr/local/lib/python3.11/dist-packages (from pandas>=1.0.0->ucimlrepo) (2025.2)\n",
            "Requirement already satisfied: six>=1.5 in /usr/local/lib/python3.11/dist-packages (from python-dateutil>=2.8.2->pandas>=1.0.0->ucimlrepo) (1.17.0)\n",
            "Downloading ucimlrepo-0.0.7-py3-none-any.whl (8.0 kB)\n",
            "Installing collected packages: ucimlrepo\n",
            "Successfully installed ucimlrepo-0.0.7\n"
          ]
        }
      ],
      "source": [
        "!pip install ucimlrepo"
      ]
    },
    {
      "source": [
        "!pip install scikit-learn-intelex"
      ],
      "cell_type": "code",
      "metadata": {
        "colab": {
          "base_uri": "https://localhost:8080/"
        },
        "id": "EA8Vp39JR2bE",
        "outputId": "93465a56-2291-4588-9a6c-f28cdb7e5fba",
        "collapsed": true
      },
      "execution_count": null,
      "outputs": [
        {
          "output_type": "stream",
          "name": "stdout",
          "text": [
            "Collecting scikit-learn-intelex\n",
            "  Downloading scikit_learn_intelex-2025.5.0-py311-none-manylinux_2_28_x86_64.whl.metadata (11 kB)\n",
            "Collecting daal==2025.5.0 (from scikit-learn-intelex)\n",
            "  Downloading daal-2025.5.0-py2.py3-none-manylinux_2_28_x86_64.whl.metadata (1.1 kB)\n",
            "Requirement already satisfied: numpy>=1.19 in /usr/local/lib/python3.11/dist-packages (from scikit-learn-intelex) (2.0.2)\n",
            "Requirement already satisfied: scikit-learn>=0.22 in /usr/local/lib/python3.11/dist-packages (from scikit-learn-intelex) (1.6.1)\n",
            "Requirement already satisfied: tbb==2022.* in /usr/local/lib/python3.11/dist-packages (from daal==2025.5.0->scikit-learn-intelex) (2022.1.0)\n",
            "Requirement already satisfied: tcmlib==1.* in /usr/local/lib/python3.11/dist-packages (from tbb==2022.*->daal==2025.5.0->scikit-learn-intelex) (1.3.0)\n",
            "Requirement already satisfied: scipy>=1.6.0 in /usr/local/lib/python3.11/dist-packages (from scikit-learn>=0.22->scikit-learn-intelex) (1.15.2)\n",
            "Requirement already satisfied: joblib>=1.2.0 in /usr/local/lib/python3.11/dist-packages (from scikit-learn>=0.22->scikit-learn-intelex) (1.4.2)\n",
            "Requirement already satisfied: threadpoolctl>=3.1.0 in /usr/local/lib/python3.11/dist-packages (from scikit-learn>=0.22->scikit-learn-intelex) (3.6.0)\n",
            "Downloading scikit_learn_intelex-2025.5.0-py311-none-manylinux_2_28_x86_64.whl (4.3 MB)\n",
            "\u001b[2K   \u001b[90m━━━━━━━━━━━━━━━━━━━━━━━━━━━━━━━━━━━━━━━━\u001b[0m \u001b[32m4.3/4.3 MB\u001b[0m \u001b[31m36.5 MB/s\u001b[0m eta \u001b[36m0:00:00\u001b[0m\n",
            "\u001b[?25hDownloading daal-2025.5.0-py2.py3-none-manylinux_2_28_x86_64.whl (110.3 MB)\n",
            "\u001b[2K   \u001b[90m━━━━━━━━━━━━━━━━━━━━━━━━━━━━━━━━━━━━━━━━\u001b[0m \u001b[32m110.3/110.3 MB\u001b[0m \u001b[31m7.8 MB/s\u001b[0m eta \u001b[36m0:00:00\u001b[0m\n",
            "\u001b[?25hInstalling collected packages: daal, scikit-learn-intelex\n",
            "Successfully installed daal-2025.5.0 scikit-learn-intelex-2025.5.0\n"
          ]
        }
      ]
    },
    {
      "cell_type": "markdown",
      "source": [
        "## 2. Imports and Configuration\n",
        "Import standard Python libraries, fetch utilities, and apply oneAPI patches:\n"
      ],
      "metadata": {
        "id": "kA7-SMNvZbq5"
      }
    },
    {
      "cell_type": "code",
      "source": [
        "import time\n",
        "import pandas as pd\n",
        "import numpy as np\n",
        "import matplotlib.pyplot as plt\n",
        "from ucimlrepo import fetch_ucirepo\n",
        "\n",
        "from sklearn.model_selection import train_test_split\n",
        "from sklearn.preprocessing import StandardScaler\n",
        "from sklearn.metrics import accuracy_score, precision_recall_fscore_support, confusion_matrix\n",
        "from sklearnex import patch_sklearn\n",
        "from sklearn.linear_model import LogisticRegression as LR_1API\n",
        "from cuml.ensemble import RandomForestClassifier as cuRFC\n",
        "import torch\n",
        "import torch.nn as nn\n",
        "from torch.utils.data import TensorDataset, DataLoader\n",
        "\n",
        "# Apply Intel oneAPI patch to scikit-learn\n",
        "patch_sklearn()"
      ],
      "metadata": {
        "id": "g8EN2hqPRckt",
        "colab": {
          "base_uri": "https://localhost:8080/"
        },
        "outputId": "d716a310-1ba5-4604-9ee1-7edad23dcc39"
      },
      "execution_count": null,
      "outputs": [
        {
          "output_type": "stream",
          "name": "stderr",
          "text": [
            "Extension for Scikit-learn* enabled (https://github.com/uxlfoundation/scikit-learn-intelex)\n"
          ]
        }
      ]
    },
    {
      "cell_type": "markdown",
      "source": [
        "## 3. Data Loading and Exploration\n",
        "Fetch the CDC Diabetes Health Indicators dataset (ID 891) and inspect it:\n"
      ],
      "metadata": {
        "id": "77FguOHrZjLJ"
      }
    },
    {
      "cell_type": "code",
      "source": [
        "# fetch dataset\n",
        "cdc_diabetes_health_indicators = fetch_ucirepo(id=891)\n",
        "\n",
        "# data (as pandas dataframes)\n",
        "X = cdc_diabetes_health_indicators.data.features\n",
        "y = cdc_diabetes_health_indicators.data.targets\n",
        "\n",
        "# metadata\n",
        "print(cdc_diabetes_health_indicators.metadata)\n",
        "\n",
        "# variable information\n",
        "print(cdc_diabetes_health_indicators.variables)"
      ],
      "metadata": {
        "colab": {
          "base_uri": "https://localhost:8080/"
        },
        "collapsed": true,
        "id": "vfuzvT5xRgKp",
        "outputId": "bc53ffc7-9448-4f7f-998e-6b4800da0394"
      },
      "execution_count": null,
      "outputs": [
        {
          "output_type": "stream",
          "name": "stdout",
          "text": [
            "{'uci_id': 891, 'name': 'CDC Diabetes Health Indicators', 'repository_url': 'https://archive.ics.uci.edu/dataset/891/cdc+diabetes+health+indicators', 'data_url': 'https://archive.ics.uci.edu/static/public/891/data.csv', 'abstract': 'The Diabetes Health Indicators Dataset contains healthcare statistics and lifestyle survey information about people in general along with their diagnosis of diabetes. The 35 features consist of some demographics, lab test results, and answers to survey questions for each patient. The target variable for classification is whether a patient has diabetes, is pre-diabetic, or healthy. ', 'area': 'Health and Medicine', 'tasks': ['Classification'], 'characteristics': ['Tabular', 'Multivariate'], 'num_instances': 253680, 'num_features': 21, 'feature_types': ['Categorical', 'Integer'], 'demographics': ['Sex', 'Age', 'Education Level', 'Income'], 'target_col': ['Diabetes_binary'], 'index_col': ['ID'], 'has_missing_values': 'no', 'missing_values_symbol': None, 'year_of_dataset_creation': 2017, 'last_updated': 'Fri Nov 03 2023', 'dataset_doi': '10.24432/C53919', 'creators': [], 'intro_paper': {'ID': 308, 'type': 'NATIVE', 'title': 'Incidence of End-Stage Renal Disease Attributed to Diabetes Among Persons with Diagnosed Diabetes — United States and Puerto Rico, 2000–2014', 'authors': 'Nilka Rios Burrows, MPH; Israel Hora, PhD; Linda S. Geiss, MA; Edward W. Gregg, PhD; Ann Albright, PhD', 'venue': 'Morbidity and Mortality Weekly Report', 'year': 2017, 'journal': None, 'DOI': None, 'URL': 'https://www.cdc.gov/mmwr/volumes/66/wr/mm6643a2.htm', 'sha': None, 'corpus': None, 'arxiv': None, 'mag': None, 'acl': None, 'pmid': None, 'pmcid': None}, 'additional_info': {'summary': 'Dataset link: https://www.cdc.gov/brfss/annual_data/annual_2014.html', 'purpose': 'To better understand the relationship between  lifestyle and diabetes in the US', 'funded_by': 'The CDC', 'instances_represent': 'Each row represents a person participating in this study.', 'recommended_data_splits': 'Cross validation or a fixed train-test split could be used.', 'sensitive_data': '- Gender\\n- Income\\n- Education level', 'preprocessing_description': 'Bucketing of age', 'variable_info': '- Diabetes diagnosis\\n- Demographics (race, sex)\\n- Personal information (income, educations)\\n- Health history (drinking, smoking, mental health, physical health)', 'citation': None}, 'external_url': 'https://www.kaggle.com/datasets/alexteboul/diabetes-health-indicators-dataset'}\n",
            "                    name     role     type      demographic  \\\n",
            "0                     ID       ID  Integer             None   \n",
            "1        Diabetes_binary   Target   Binary             None   \n",
            "2                 HighBP  Feature   Binary             None   \n",
            "3               HighChol  Feature   Binary             None   \n",
            "4              CholCheck  Feature   Binary             None   \n",
            "5                    BMI  Feature  Integer             None   \n",
            "6                 Smoker  Feature   Binary             None   \n",
            "7                 Stroke  Feature   Binary             None   \n",
            "8   HeartDiseaseorAttack  Feature   Binary             None   \n",
            "9           PhysActivity  Feature   Binary             None   \n",
            "10                Fruits  Feature   Binary             None   \n",
            "11               Veggies  Feature   Binary             None   \n",
            "12     HvyAlcoholConsump  Feature   Binary             None   \n",
            "13         AnyHealthcare  Feature   Binary             None   \n",
            "14           NoDocbcCost  Feature   Binary             None   \n",
            "15               GenHlth  Feature  Integer             None   \n",
            "16              MentHlth  Feature  Integer             None   \n",
            "17              PhysHlth  Feature  Integer             None   \n",
            "18              DiffWalk  Feature   Binary             None   \n",
            "19                   Sex  Feature   Binary              Sex   \n",
            "20                   Age  Feature  Integer              Age   \n",
            "21             Education  Feature  Integer  Education Level   \n",
            "22                Income  Feature  Integer           Income   \n",
            "\n",
            "                                          description units missing_values  \n",
            "0                                          Patient ID  None             no  \n",
            "1         0 = no diabetes 1 = prediabetes or diabetes  None             no  \n",
            "2                          0 = no high BP 1 = high BP  None             no  \n",
            "3        0 = no high cholesterol 1 = high cholesterol  None             no  \n",
            "4   0 = no cholesterol check in 5 years 1 = yes ch...  None             no  \n",
            "5                                     Body Mass Index  None             no  \n",
            "6   Have you smoked at least 100 cigarettes in you...  None             no  \n",
            "7        (Ever told) you had a stroke. 0 = no 1 = yes  None             no  \n",
            "8   coronary heart disease (CHD) or myocardial inf...  None             no  \n",
            "9   physical activity in past 30 days - not includ...  None             no  \n",
            "10  Consume Fruit 1 or more times per day 0 = no 1...  None             no  \n",
            "11  Consume Vegetables 1 or more times per day 0 =...  None             no  \n",
            "12  Heavy drinkers (adult men having more than 14 ...  None             no  \n",
            "13  Have any kind of health care coverage, includi...  None             no  \n",
            "14  Was there a time in the past 12 months when yo...  None             no  \n",
            "15  Would you say that in general your health is: ...  None             no  \n",
            "16  Now thinking about your mental health, which i...  None             no  \n",
            "17  Now thinking about your physical health, which...  None             no  \n",
            "18  Do you have serious difficulty walking or clim...  None             no  \n",
            "19                                0 = female 1 = male  None             no  \n",
            "20  13-level age category (_AGEG5YR see codebook) ...  None             no  \n",
            "21  Education level (EDUCA see codebook) scale 1-6...  None             no  \n",
            "22  Income scale (INCOME2 see codebook) scale 1-8 ...  None             no  \n"
          ]
        }
      ]
    },
    {
      "cell_type": "markdown",
      "source": [
        "## 4. Preprocessing\n",
        "Prepare standardize inputs, and split into train/test sets:\n"
      ],
      "metadata": {
        "id": "DSm8BVuVaGXv"
      }
    },
    {
      "cell_type": "code",
      "source": [
        "scaler = StandardScaler()\n",
        "X_scaled = scaler.fit_transform(X)"
      ],
      "metadata": {
        "id": "sAvXDD_FRjlx"
      },
      "execution_count": null,
      "outputs": []
    },
    {
      "cell_type": "code",
      "source": [
        "X_train, X_test, y_train, y_test = train_test_split(\n",
        "    X_scaled, y, test_size=0.2, random_state=42, stratify=y)"
      ],
      "metadata": {
        "id": "Vl1l7MQfRn3M"
      },
      "execution_count": null,
      "outputs": []
    },
    {
      "cell_type": "markdown",
      "source": [
        "## 5. Model 1: Scikit-Learn Logistic Regression\n",
        "Baseline logistic regression without acceleration."
      ],
      "metadata": {
        "id": "0809B8mlaMvh"
      }
    },
    {
      "cell_type": "code",
      "source": [
        "from sklearn.linear_model import LogisticRegression\n",
        "\n",
        "start = time.time()\n",
        "clf_sk = LogisticRegression(max_iter=500)\n",
        "clf_sk.fit(X_train, y_train)\n",
        "t_train_sk = time.time() - start\n",
        "\n",
        "start = time.time()\n",
        "y_pred_sk = clf_sk.predict(X_test)\n",
        "t_inf_sk = time.time() - start\n",
        "\n",
        "acc_sk = accuracy_score(y_test, y_pred_sk)\n",
        "prec_sk, rec_sk, f1_sk, _ = precision_recall_fscore_support(y_test, y_pred_sk, average='binary')\n",
        "\n",
        "print(f\"sklearn — acc {acc_sk:.3f}, train {t_train_sk:.2f}s, infer {t_inf_sk:.3f}s\")"
      ],
      "metadata": {
        "colab": {
          "base_uri": "https://localhost:8080/"
        },
        "id": "AExnC69fRpYK",
        "outputId": "cd26598a-adc2-4af8-a9b6-3e113f74134f"
      },
      "execution_count": null,
      "outputs": [
        {
          "output_type": "stream",
          "name": "stderr",
          "text": [
            "/usr/local/lib/python3.11/dist-packages/sklearn/utils/validation.py:1408: DataConversionWarning: A column-vector y was passed when a 1d array was expected. Please change the shape of y to (n_samples, ), for example using ravel().\n",
            "  y = column_or_1d(y, warn=True)\n"
          ]
        },
        {
          "output_type": "stream",
          "name": "stdout",
          "text": [
            "sklearn — acc 0.862, train 0.22s, infer 0.005s\n"
          ]
        }
      ]
    },
    {
      "cell_type": "markdown",
      "source": [
        "## 6. Model 2: Intel oneAPI-Accelerated Logistic Regression\n",
        "Use Intel's extension for faster training and prediction.\n"
      ],
      "metadata": {
        "id": "RaO9hmz1aSBA"
      }
    },
    {
      "cell_type": "code",
      "source": [
        "start = time.time()\n",
        "clf_1api = LR_1API(max_iter=500)\n",
        "clf_1api.fit(X_train, y_train)\n",
        "t_train_1api = time.time() - start\n",
        "\n",
        "start = time.time()\n",
        "y_pred_1api = clf_1api.predict(X_test)\n",
        "t_inf_1api = time.time() - start\n",
        "\n",
        "acc_1api = accuracy_score(y_test, y_pred_1api)\n",
        "\n",
        "print(f\"oneAPI — acc {acc_1api:.3f}, train {t_train_1api:.2f}s, infer {t_inf_1api:.3f}s\")"
      ],
      "metadata": {
        "colab": {
          "base_uri": "https://localhost:8080/"
        },
        "id": "t26RLz5pRr6F",
        "outputId": "11ba7615-952a-4755-86d8-ee001455f802"
      },
      "execution_count": null,
      "outputs": [
        {
          "output_type": "stream",
          "name": "stderr",
          "text": [
            "/usr/local/lib/python3.11/dist-packages/sklearn/utils/validation.py:1408: DataConversionWarning: A column-vector y was passed when a 1d array was expected. Please change the shape of y to (n_samples, ), for example using ravel().\n",
            "  y = column_or_1d(y, warn=True)\n"
          ]
        },
        {
          "output_type": "stream",
          "name": "stdout",
          "text": [
            "oneAPI — acc 0.862, train 0.43s, infer 0.015s\n"
          ]
        }
      ]
    },
    {
      "cell_type": "markdown",
      "source": [
        "## 7. Model 3: RAPIDS Random Forest Classifier\n",
        "GPU-accelerated random forest via RAPIDS cuML."
      ],
      "metadata": {
        "id": "3FqwrelEaX5d"
      }
    },
    {
      "source": [
        "start = time.time()\n",
        "cuml_model = cuRFC(n_estimators=100, random_state=42)\n",
        "# Convert y_train to a 1D array or Series\n",
        "cuml_model.fit(X_train, y_train['Diabetes_binary'].values)\n",
        "cuml_time = time.time() - start\n",
        "\n",
        "cuml_pred = cuml_model.predict(X_test)\n",
        "cuml_inf = time.time() - start\n",
        "\n",
        "acc_cuml = accuracy_score(y_test, cuml_pred)\n",
        "\n",
        "print(f\"oneAPI — acc {acc_cuml:.3f}, train {cuml_time:.2f}s, infer {cuml_inf:.3f}s\")"
      ],
      "cell_type": "code",
      "metadata": {
        "colab": {
          "base_uri": "https://localhost:8080/"
        },
        "id": "Kw9D_9MCSyG1",
        "outputId": "a1f8b0b1-01de-42cd-e09a-671f715d033d"
      },
      "execution_count": null,
      "outputs": [
        {
          "output_type": "stream",
          "name": "stderr",
          "text": [
            "/usr/local/lib/python3.11/dist-packages/cuml/internals/api_decorators.py:368: UserWarning: For reproducible results in Random Forest Classifier or for almost reproducible results in Random Forest Regressor, n_streams=1 is recommended. If n_streams is > 1, results may vary due to stream/thread timing differences, even when random_state is set\n",
            "  return init_func(self, *args, **kwargs)\n"
          ]
        },
        {
          "output_type": "stream",
          "name": "stdout",
          "text": [
            "oneAPI — acc 0.864, train 3.09s, infer 4.138s\n"
          ]
        }
      ]
    },
    {
      "cell_type": "markdown",
      "source": [
        "## 8. Model 4: PyTorch Feed-Forward Neural Network\n",
        "Define, train, and evaluate a simple neural network."
      ],
      "metadata": {
        "id": "rYaW6ogTaci8"
      }
    },
    {
      "cell_type": "code",
      "source": [
        "Xt = torch.as_tensor(X_train, dtype=torch.float32)\n",
        "yt = torch.as_tensor(y_train.values, dtype=torch.float32)\n",
        "Xv = torch.as_tensor(X_test, dtype=torch.float32)\n",
        "yv = torch.as_tensor(y_test.values, dtype=torch.float32)\n",
        "\n",
        "train_ds = TensorDataset(Xt, yt)\n",
        "train_dl = DataLoader(\n",
        "    train_ds,\n",
        "    batch_size=64,\n",
        "    shuffle=True,\n",
        "    num_workers=4,\n",
        "    pin_memory=True\n",
        ")\n",
        "\n",
        "class Net(nn.Module):\n",
        "    def __init__(self, in_features):\n",
        "        super().__init__()\n",
        "        self.layers = nn.Sequential(\n",
        "            nn.Linear(in_features, 32),\n",
        "            nn.BatchNorm1d(32),\n",
        "            nn.ReLU(),\n",
        "            nn.Dropout(0.2),\n",
        "            nn.Linear(32, 16),\n",
        "            nn.BatchNorm1d(16),\n",
        "            nn.ReLU(),\n",
        "            nn.Dropout(0.2),\n",
        "            nn.Linear(16, 1)\n",
        "        )\n",
        "    def forward(self, x): return self.layers(x)\n",
        "\n",
        "torch.backends.cudnn.benchmark = True\n",
        "\n",
        "device = torch.device('cuda' if torch.cuda.is_available() else 'cpu')\n",
        "model = Net(Xt.shape[1]).to(device)\n",
        "\n",
        "try:\n",
        "    model = torch.compile(model)\n",
        "    print(\"Using torch.compile for acceleration\")\n",
        "except (AttributeError, RuntimeError):\n",
        "    print(\"torch.compile not available, using standard model\")\n",
        "\n",
        "opt = torch.optim.AdamW(model.parameters(), lr=1e-3, weight_decay=0.01)\n",
        "\n",
        "loss_fn = nn.BCEWithLogitsLoss()\n",
        "\n",
        "val_ds = TensorDataset(Xv, yv)\n",
        "val_dl = DataLoader(val_ds, batch_size=128, pin_memory=True)\n",
        "\n",
        "epochs = 10\n",
        "\n",
        "scheduler = torch.optim.lr_scheduler.OneCycleLR(\n",
        "    opt, max_lr=1e-3, total_steps=len(train_dl) * epochs\n",
        ")\n",
        "\n",
        "scaler = torch.cuda.amp.GradScaler()\n",
        "\n",
        "best_acc = 0\n",
        "start = time.time()\n",
        "\n",
        "for epoch in range(epochs):\n",
        "    model.train()\n",
        "    train_loss = 0\n",
        "\n",
        "    for xb, yb in train_dl:\n",
        "        xb, yb = xb.to(device), yb.to(device)\n",
        "\n",
        "        with torch.cuda.amp.autocast():\n",
        "            pred = model(xb)\n",
        "            loss = loss_fn(pred, yb)\n",
        "\n",
        "        opt.zero_grad(set_to_none=True)\n",
        "\n",
        "        scaler.scale(loss).backward()\n",
        "\n",
        "        scaler.unscale_(opt)\n",
        "        torch.nn.utils.clip_grad_norm_(model.parameters(), max_norm=1.0)\n",
        "\n",
        "        scaler.step(opt)\n",
        "        scaler.update()\n",
        "\n",
        "        scheduler.step()\n",
        "\n",
        "        train_loss += loss.item()\n",
        "\n",
        "    model.eval()\n",
        "    correct = 0\n",
        "    total = 0\n",
        "\n",
        "    with torch.no_grad():\n",
        "        for xb, yb in val_dl:\n",
        "            xb, yb = xb.to(device), yb.to(device)\n",
        "            outputs = model(xb)\n",
        "            preds = torch.sigmoid(outputs) > 0.5\n",
        "            correct += (preds.float() == yb).sum().item()\n",
        "            total += yb.size(0)\n",
        "\n",
        "    val_acc = correct / total\n",
        "    if val_acc > best_acc:\n",
        "        best_acc = val_acc\n",
        "\n",
        "    print(f\"Epoch {epoch+1}/{epochs}, Train Loss: {train_loss/len(train_dl):.4f}, Val Acc: {val_acc:.4f}\")\n",
        "\n",
        "t_train_nn = time.time() - start\n",
        "\n",
        "start = time.time()\n",
        "model.eval()\n",
        "with torch.no_grad():\n",
        "    all_preds = []\n",
        "    for i in range(0, len(Xv), 128):\n",
        "        batch = Xv[i:i+128].to(device)\n",
        "        preds = (torch.sigmoid(model(batch)) > 0.5).cpu().numpy()\n",
        "        all_preds.append(preds)\n",
        "    preds = np.vstack(all_preds).reshape(-1)\n",
        "\n",
        "t_inf_nn = time.time() - start\n",
        "\n",
        "acc_nn = accuracy_score(y_test, preds)\n",
        "print(f\"PyTorch NN - acc {acc_nn:.3f}, best val acc {best_acc:.3f}, train {t_train_nn:.2f}s, infer {t_inf_nn:.3f}s\")\n"
      ],
      "metadata": {
        "colab": {
          "base_uri": "https://localhost:8080/"
        },
        "id": "KXBjiW32SAp-",
        "outputId": "fa76e2d9-d688-42b8-b383-e70a2a406ee3"
      },
      "execution_count": null,
      "outputs": [
        {
          "output_type": "stream",
          "name": "stdout",
          "text": [
            "Using torch.compile for acceleration\n"
          ]
        },
        {
          "output_type": "stream",
          "name": "stderr",
          "text": [
            "/usr/local/lib/python3.11/dist-packages/torch/utils/data/dataloader.py:624: UserWarning: This DataLoader will create 4 worker processes in total. Our suggested max number of worker in current system is 2, which is smaller than what this DataLoader is going to create. Please be aware that excessive worker creation might get DataLoader running slow or even freeze, lower the worker number to avoid potential slowness/freeze if necessary.\n",
            "  warnings.warn(\n",
            "<ipython-input-11-7c9298d9f222>:55: FutureWarning: `torch.cuda.amp.GradScaler(args...)` is deprecated. Please use `torch.amp.GradScaler('cuda', args...)` instead.\n",
            "  scaler = torch.cuda.amp.GradScaler()\n",
            "<ipython-input-11-7c9298d9f222>:68: FutureWarning: `torch.cuda.amp.autocast(args...)` is deprecated. Please use `torch.amp.autocast('cuda', args...)` instead.\n",
            "  with torch.cuda.amp.autocast():\n",
            "W0511 04:51:21.356000 207 torch/_inductor/utils.py:1137] [0/0] Not enough SMs to use max_autotune_gemm mode\n",
            "<ipython-input-11-7c9298d9f222>:68: FutureWarning: `torch.cuda.amp.autocast(args...)` is deprecated. Please use `torch.amp.autocast('cuda', args...)` instead.\n",
            "  with torch.cuda.amp.autocast():\n"
          ]
        },
        {
          "output_type": "stream",
          "name": "stdout",
          "text": [
            "Epoch 1/10, Train Loss: 0.4475, Val Acc: 0.8607\n"
          ]
        },
        {
          "output_type": "stream",
          "name": "stderr",
          "text": [
            "/usr/local/lib/python3.11/dist-packages/torch/utils/data/dataloader.py:624: UserWarning: This DataLoader will create 4 worker processes in total. Our suggested max number of worker in current system is 2, which is smaller than what this DataLoader is going to create. Please be aware that excessive worker creation might get DataLoader running slow or even freeze, lower the worker number to avoid potential slowness/freeze if necessary.\n",
            "  warnings.warn(\n",
            "<ipython-input-11-7c9298d9f222>:68: FutureWarning: `torch.cuda.amp.autocast(args...)` is deprecated. Please use `torch.amp.autocast('cuda', args...)` instead.\n",
            "  with torch.cuda.amp.autocast():\n"
          ]
        },
        {
          "output_type": "stream",
          "name": "stdout",
          "text": [
            "Epoch 2/10, Train Loss: 0.3287, Val Acc: 0.8606\n",
            "Epoch 3/10, Train Loss: 0.3222, Val Acc: 0.8627\n",
            "Epoch 4/10, Train Loss: 0.3206, Val Acc: 0.8635\n",
            "Epoch 5/10, Train Loss: 0.3192, Val Acc: 0.8643\n",
            "Epoch 6/10, Train Loss: 0.3186, Val Acc: 0.8643\n",
            "Epoch 7/10, Train Loss: 0.3180, Val Acc: 0.8635\n",
            "Epoch 8/10, Train Loss: 0.3181, Val Acc: 0.8642\n",
            "Epoch 9/10, Train Loss: 0.3172, Val Acc: 0.8641\n",
            "Epoch 10/10, Train Loss: 0.3169, Val Acc: 0.8641\n",
            "PyTorch NN - acc 0.864, best val acc 0.864, train 195.15s, infer 0.169s\n"
          ]
        }
      ]
    },
    {
      "cell_type": "markdown",
      "source": [
        "## 9. Results Comparison\n",
        "Plot accuracy and timing across all models:"
      ],
      "metadata": {
        "id": "juSVz8s5ahA1"
      }
    },
    {
      "cell_type": "code",
      "source": [
        "models = ['sklearn', 'oneAPI', 'RAPIDS', 'PyTorch']\n",
        "accs   = [acc_sk,  acc_1api, acc_cuml, acc_nn]\n",
        "tr_ts  = [t_train_sk, t_train_1api, cuml_time, t_train_nn]\n",
        "inf_ts = [t_inf_sk,   t_inf_1api, cuml_inf,  t_inf_nn]\n",
        "\n",
        "# x positions\n",
        "x = np.arange(len(models))\n",
        "\n",
        "fig, (ax1, ax2) = plt.subplots(1, 2, figsize=(14, 5))\n",
        "\n",
        "# --- subplot 1: Accuracy Bar Chart ---\n",
        "bars = ax1.bar(x, accs, width=0.6)\n",
        "ax1.set_xticks(x)\n",
        "ax1.set_xticklabels(models)\n",
        "ax1.set_ylim(0, 1)\n",
        "ax1.set_title('Model Accuracy')\n",
        "ax1.set_ylabel('Accuracy')\n",
        "ax1.grid(axis='y', linestyle='--', linewidth=0.5)\n",
        "\n",
        "# annotate bars\n",
        "for bar, val in zip(bars, accs):\n",
        "    ax1.text(bar.get_x() + bar.get_width()/2, val + 0.02,\n",
        "             f'{val:.2f}', ha='center', va='bottom')\n",
        "\n",
        "# --- subplot 2: Time Line Chart ---\n",
        "ax2.plot(x, tr_ts, marker='o', linestyle='-', linewidth=2, markersize=8, label='Training')\n",
        "ax2.plot(x, inf_ts, marker='s', linestyle='--', linewidth=2, markersize=8, label='Inference')\n",
        "ax2.set_xticks(x)\n",
        "ax2.set_xticklabels(models)\n",
        "ax2.set_title('Training vs. Inference Time')\n",
        "ax2.set_ylabel('Time (s)')\n",
        "ax2.grid(axis='y', linestyle='--', linewidth=0.5)\n",
        "ax2.legend()\n",
        "\n",
        "# annotate points\n",
        "for xi, y in zip(x, tr_ts):\n",
        "    ax2.text(xi, y + max(tr_ts)*0.02, f'{y:.2f}', ha='center', va='bottom')\n",
        "for xi, y in zip(x, inf_ts):\n",
        "    ax2.text(xi, y + max(tr_ts)*0.02, f'{y:.2f}', ha='center', va='bottom')\n",
        "\n",
        "plt.tight_layout()\n",
        "plt.show()"
      ],
      "metadata": {
        "colab": {
          "base_uri": "https://localhost:8080/",
          "height": 493
        },
        "id": "Gl5iud0Kb8vQ",
        "outputId": "d7f2113a-684a-4455-f719-03a44ff43bf8"
      },
      "execution_count": null,
      "outputs": [
        {
          "output_type": "display_data",
          "data": {
            "text/plain": [
              "<Figure size 1400x500 with 2 Axes>"
            ],
            "image/png": "[encoded data removed]"
          },
          "metadata": {}
        }
      ]
    },
    {
      "cell_type": "code",
      "source": [],
      "metadata": {
        "id": "BPq6ceVOcC41"
      },
      "execution_count": null,
      "outputs": []
    }
  ]
}